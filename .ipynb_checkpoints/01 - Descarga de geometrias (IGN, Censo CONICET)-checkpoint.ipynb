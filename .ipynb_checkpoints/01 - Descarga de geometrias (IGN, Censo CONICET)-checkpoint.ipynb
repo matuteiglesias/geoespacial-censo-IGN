{
 "cells": [
  {
   "cell_type": "markdown",
   "metadata": {},
   "source": []
  },
  {
   "cell_type": "code",
   "execution_count": 1,
   "metadata": {},
   "outputs": [],
   "source": [
    "import os\n",
    "from urllib.request import urlretrieve\n",
    "\n",
    "# pip install pyunpack\n",
    "from pyunpack import Archive\n",
    "# Nos va a pedir:\n",
    "# pip install patool\n"
   ]
  },
  {
   "cell_type": "markdown",
   "metadata": {},
   "source": [
    "## Descarga de geometrias de CENSO de CONICET (Gonzalo Rodriguez)"
   ]
  },
  {
   "cell_type": "code",
   "execution_count": null,
   "metadata": {},
   "outputs": [],
   "source": [
    "\n",
    "# Obtaining the data from the URL's\n",
    "url_front = 'http://ceur-conicet.gov.ar/archivos/transferencia/'\n",
    "\n",
    "## Carpeta donde quedaran los shp\n",
    "extract_dir = './censos_shp_CONICET'\n",
    "\n",
    "for year in ['1991', '2001', '2010']:\n",
    "    file_name = year+'_RADIOS_ARGENTINA.rar'\n",
    "    full_file = os.path.join(os.getcwd(), extract_dir, file_name)\n",
    "\n",
    "    # Descarga el rar solo si no existe.\n",
    "    if not os.path.isfile(full_file):\n",
    "\n",
    "        # Si no esta el directorio lo crea\n",
    "        if not os.path.exists(extract_dir):\n",
    "            os.makedirs(extract_dir)\n",
    "\n",
    "        # Toma data del URL\n",
    "        urlretrieve(url_front + file_name, full_file)\n",
    "\n",
    "    Archive(full_file).extractall(extract_dir)\n"
   ]
  },
  {
   "cell_type": "markdown",
   "metadata": {},
   "source": [
    "## Descarga de geometrias de IGN"
   ]
  },
  {
   "cell_type": "code",
   "execution_count": 2,
   "metadata": {},
   "outputs": [],
   "source": [
    "# Obtaining the data from the URL's\n",
    "url_front = 'https://www.ign.gob.ar/descargas/geodatos/SHAPES/'\n",
    "\n",
    "## Carpeta donde quedaran los shp\n",
    "extract_dir = 'IGN_shp'\n",
    "\n",
    "for file_name in ['ign_provincia.zip', 'ign_departamento.zip']:\n",
    "    full_file = os.path.join(os.getcwd(), extract_dir, file_name)\n",
    "\n",
    "    # Descarga el rar solo si no existe.\n",
    "    if not os.path.isfile(full_file):\n",
    "        # Si no esta el directorio lo crea\n",
    "        if not os.path.exists(extract_dir):\n",
    "            os.makedirs(extract_dir)\n",
    "\n",
    "        # Toma data del URL\n",
    "        urlretrieve(url_front + file_name, full_file)\n",
    "\n",
    "    Archive(full_file).extractall(extract_dir)"
   ]
  },
  {
   "cell_type": "code",
   "execution_count": 4,
   "metadata": {},
   "outputs": [
    {
     "data": {
      "text/plain": [
       "'IGN_shp'"
      ]
     },
     "execution_count": 4,
     "metadata": {},
     "output_type": "execute_result"
    }
   ],
   "source": [
    "extract_dir"
   ]
  },
  {
   "cell_type": "code",
   "execution_count": 5,
   "metadata": {},
   "outputs": [
    {
     "data": {
      "text/plain": [
       "'C:\\\\Users\\\\BCNCPC23\\\\Desktop\\\\IGN_INDEC_georef\\\\IGN_shp\\\\ign_departamento.zip'"
      ]
     },
     "execution_count": 5,
     "metadata": {},
     "output_type": "execute_result"
    }
   ],
   "source": [
    "full_file"
   ]
  },
  {
   "cell_type": "code",
   "execution_count": null,
   "metadata": {},
   "outputs": [],
   "source": []
  }
 ],
 "metadata": {
  "kernelspec": {
   "display_name": "Python 3",
   "language": "python",
   "name": "python3"
  },
  "language_info": {
   "codemirror_mode": {
    "name": "ipython",
    "version": 3
   },
   "file_extension": ".py",
   "mimetype": "text/x-python",
   "name": "python",
   "nbconvert_exporter": "python",
   "pygments_lexer": "ipython3",
   "version": "3.8.5"
  }
 },
 "nbformat": 4,
 "nbformat_minor": 4
}
