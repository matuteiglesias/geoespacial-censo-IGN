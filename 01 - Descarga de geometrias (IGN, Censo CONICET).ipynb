{
 "cells": [
  {
   "attachments": {},
   "cell_type": "markdown",
   "metadata": {},
   "source": [
    ">> Click en Run All ^^"
   ]
  },
  {
   "cell_type": "markdown",
   "metadata": {},
   "source": [
    "# Descarga de geometrías (IGN, Censo CONICET)"
   ]
  },
  {
   "attachments": {},
   "cell_type": "markdown",
   "metadata": {},
   "source": [
    "Este notebook se encarga de descargar los datos geográficos oficiales. fuentes: el Instituto Geográfico Nacional (IGN). Fuente alternativa, Rodriguez CEUR CONICET. Aquí están los pasos que sigue este notebook:\n",
    "\n",
    "**Descarga de los datos del Censo CONICET**: El notebook descarga archivos .rar que contienen los datos del censo para diferentes años si no existen ya en tu sistema.\n",
    "\n",
    "**Extracción de los datos**: Una vez descargados los archivos .rar, el notebook los extrae automáticamente. ¡Ya tines todo listo para trabajar con los datos!\n",
    "\n",
    "Este notebook es perfecto para descargar y preparar los datos geográficos necesarios para trabajar con los datos del censo. ¡No tenes que ser un experto en Python! El notebook hace todo el trabajo."
   ]
  },
  {
   "cell_type": "code",
   "execution_count": 2,
   "metadata": {},
   "outputs": [],
   "source": [
    "import os\n",
    "from urllib.request import urlretrieve\n",
    "\n",
    "# Attempt to import pyunpack, if it fails, install pyunpack and patool\n",
    "try:\n",
    "    from pyunpack import Archive\n",
    "except ModuleNotFoundError:\n",
    "    os.system('pip install pyunpack')\n",
    "    os.system('pip install patool')\n",
    "    from pyunpack import Archive"
   ]
  },
  {
   "cell_type": "markdown",
   "metadata": {},
   "source": [
    "## Descarga de geometrias de CENSO de CONICET (Gonzalo Rodriguez)"
   ]
  },
  {
   "cell_type": "code",
   "execution_count": 28,
   "metadata": {},
   "outputs": [],
   "source": [
    "\n",
    "# Obtaining the data from the URL's\n",
    "url_front = 'http://ceur-conicet.gov.ar/archivos/transferencia/'\n",
    "\n",
    "## Carpeta donde quedaran los shp\n",
    "extract_dir = './censos_shp_CONICET'\n",
    "\n",
    "for year in ['1991', '2001', '2010']:\n",
    "    file_name = year+'_RADIOS_ARGENTINA.rar'\n",
    "    full_file = os.path.join(os.getcwd(), extract_dir, file_name)\n",
    "    extracted_folder_path = os.path.join(extract_dir, year+'_RADIOS ARGENTINA')\n",
    "\n",
    "    # Descarga el rar solo si no existe.\n",
    "    if not os.path.isfile(full_file):\n",
    "\n",
    "        # Si no esta el directorio lo crea\n",
    "        if not os.path.exists(extract_dir):\n",
    "            os.makedirs(extract_dir)\n",
    "\n",
    "        # Toma data del URL\n",
    "        urlretrieve(url_front + file_name, full_file)\n",
    "        \n",
    "    # Extracts files only if the extracted folder does not exist.\n",
    "    if not os.path.isdir(extracted_folder_path):\n",
    "        Archive(full_file).extractall(extract_dir)"
   ]
  },
  {
   "cell_type": "markdown",
   "metadata": {},
   "source": [
    "## Descarga de geometrias de IGN"
   ]
  },
  {
   "cell_type": "code",
   "execution_count": 3,
   "metadata": {},
   "outputs": [
    {
     "name": "stderr",
     "output_type": "stream",
     "text": [
      "/home/matias/anaconda3/envs/base2/lib/python3.11/site-packages/urllib3/connectionpool.py:1095: InsecureRequestWarning: Unverified HTTPS request is being made to host 'ign.gob.ar'. Adding certificate verification is strongly advised. See: https://urllib3.readthedocs.io/en/latest/advanced-usage.html#tls-warnings\n",
      "  warnings.warn(\n",
      "/home/matias/anaconda3/envs/base2/lib/python3.11/site-packages/urllib3/connectionpool.py:1095: InsecureRequestWarning: Unverified HTTPS request is being made to host 'www.ign.gob.ar'. Adding certificate verification is strongly advised. See: https://urllib3.readthedocs.io/en/latest/advanced-usage.html#tls-warnings\n",
      "  warnings.warn(\n"
     ]
    }
   ],
   "source": [
    "import geopandas as gpd\n",
    "import requests\n",
    "import zipfile\n",
    "import os\n",
    "from io import BytesIO\n",
    "\n",
    "# URL of the ZIP file\n",
    "url = \"http://www.ign.gob.ar/descargas/geodatos/SHAPES/ign_departamento.zip\"\n",
    "\n",
    "# Download the ZIP file with SSL certificate verification disabled\n",
    "response = requests.get(url, verify=False)\n",
    "\n",
    "# Specify the target directory for extraction\n",
    "target_directory = \"./IGN_shp/\"\n",
    "\n",
    "# Create the target directory if it doesn't exist\n",
    "os.makedirs(target_directory, exist_ok=True)\n",
    "\n",
    "# Extract the shapefile files from the ZIP archive to the target directory\n",
    "with zipfile.ZipFile(BytesIO(response.content)) as zip_file:\n",
    "    zip_file.extractall(target_directory)\n",
    "\n"
   ]
  },
  {
   "cell_type": "code",
   "execution_count": 9,
   "metadata": {},
   "outputs": [
    {
     "data": {
      "text/plain": [
       "'./IGN_shp/ign_departamento'"
      ]
     },
     "execution_count": 9,
     "metadata": {},
     "output_type": "execute_result"
    }
   ],
   "source": [
    "# Listo, ya tenes los departamentos.\n",
    "# Load the shapefile into a GeoDataFrame\n",
    "shapefile_path = os.path.join(target_directory, \"ign_departamento\")\n",
    "gdf = gpd.read_file(shapefile_path)\n",
    "shapefile_path"
   ]
  },
  {
   "cell_type": "code",
   "execution_count": 8,
   "metadata": {},
   "outputs": [
    {
     "data": {
      "text/plain": [
       "<Axes: >"
      ]
     },
     "execution_count": 8,
     "metadata": {},
     "output_type": "execute_result"
    },
    {
     "data": {
      "image/png": "[encoded data removed]",
      "text/plain": [
       "<Figure size 640x480 with 1 Axes>"
      ]
     },
     "metadata": {},
     "output_type": "display_data"
    }
   ],
   "source": [
    "gdf.plot(color = 'w', edgecolor = 'k')"
   ]
  },
  {
   "cell_type": "code",
   "execution_count": 4,
   "metadata": {},
   "outputs": [
    {
     "data": {
      "text/plain": [
       "'./IGN_shp/ign_departamento'"
      ]
     },
     "execution_count": 4,
     "metadata": {},
     "output_type": "execute_result"
    }
   ],
   "source": [
    "shapefile_path"
   ]
  },
  {
   "cell_type": "code",
   "execution_count": null,
   "metadata": {},
   "outputs": [],
   "source": [
    "### ALTERNATIVA DIRECTO DE IGN, TIENE ERORRES ESE DATASET. NO USAR"
   ]
  },
  {
   "cell_type": "code",
   "execution_count": 29,
   "metadata": {},
   "outputs": [],
   "source": [
    "# Obtaining the data from the URL's\n",
    "url_front = 'https://www.ign.gob.ar/descargas/geodatos/SHAPES/'\n",
    "\n",
    "## Carpeta donde quedaran los shp\n",
    "extract_dir = 'IGN_shp'\n",
    "\n",
    "for file_name in ['ign_provincia.zip', 'ign_departamento.zip']:\n",
    "    full_file = os.path.join(os.getcwd(), extract_dir, file_name)\n",
    "\n",
    "    # Descarga el rar solo si no existe.\n",
    "    if not os.path.isfile(full_file):\n",
    "        # Si no esta el directorio lo crea\n",
    "        if not os.path.exists(extract_dir):\n",
    "            os.makedirs(extract_dir)\n",
    "\n",
    "        # Toma data del URL\n",
    "        urlretrieve(url_front + file_name, full_file)\n",
    "\n",
    "    Archive(full_file).extractall(extract_dir)"
   ]
  },
  {
   "cell_type": "code",
   "execution_count": 30,
   "metadata": {},
   "outputs": [
    {
     "data": {
      "text/plain": [
       "'IGN_shp'"
      ]
     },
     "execution_count": 30,
     "metadata": {},
     "output_type": "execute_result"
    }
   ],
   "source": [
    "extract_dir"
   ]
  },
  {
   "cell_type": "code",
   "execution_count": 31,
   "metadata": {},
   "outputs": [
    {
     "data": {
      "text/plain": [
       "'/home/matias/repos/IGN_INDEC_georef/IGN_shp/ign_departamento.zip'"
      ]
     },
     "execution_count": 31,
     "metadata": {},
     "output_type": "execute_result"
    }
   ],
   "source": [
    "full_file"
   ]
  },
  {
   "cell_type": "code",
   "execution_count": null,
   "metadata": {},
   "outputs": [],
   "source": []
  }
 ],
 "metadata": {
  "kernelspec": {
   "display_name": "Python 3",
   "language": "python",
   "name": "python3"
  },
  "language_info": {
   "codemirror_mode": {
    "name": "ipython",
    "version": 3
   },
   "file_extension": ".py",
   "mimetype": "text/x-python",
   "name": "python",
   "nbconvert_exporter": "python",
   "pygments_lexer": "ipython3",
   "version": "3.11.3"
  }
 },
 "nbformat": 4,
 "nbformat_minor": 4
}
