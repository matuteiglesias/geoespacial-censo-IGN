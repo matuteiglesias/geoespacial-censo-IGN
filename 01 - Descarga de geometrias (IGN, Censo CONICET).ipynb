{
 "cells": [
  {
   "attachments": {},
   "cell_type": "markdown",
   "metadata": {},
   "source": [
    ">> Click en Run All ^^"
   ]
  },
  {
   "cell_type": "markdown",
   "metadata": {},
   "source": [
    "# Descarga de geometrías (IGN, Censo CONICET)"
   ]
  },
  {
   "attachments": {},
   "cell_type": "markdown",
   "metadata": {},
   "source": [
    "Este notebook se encarga de descargar los datos geográficos oficiales. fuentes: el Instituto Geográfico Nacional (IGN). Fuente alternativa, Rodriguez CEUR CONICET. Aquí están los pasos que sigue este notebook:\n",
    "\n",
    "**Descarga de los datos del Censo CONICET**: El notebook descarga archivos .rar que contienen los datos del censo para diferentes años si no existen ya en tu sistema.\n",
    "\n",
    "**Extracción de los datos**: Una vez descargados los archivos .rar, el notebook los extrae automáticamente. ¡Ya tines todo listo para trabajar con los datos!\n",
    "\n",
    "Este notebook es perfecto para descargar y preparar los datos geográficos necesarios para trabajar con los datos del censo. ¡No tenes que ser un experto en Python! El notebook hace todo el trabajo."
   ]
  },
  {
   "cell_type": "code",
   "execution_count": 27,
   "metadata": {},
   "outputs": [],
   "source": [
    "import os\n",
    "from urllib.request import urlretrieve\n",
    "\n",
    "# Attempt to import pyunpack, if it fails, install pyunpack and patool\n",
    "try:\n",
    "    from pyunpack import Archive\n",
    "except ModuleNotFoundError:\n",
    "    os.system('pip install pyunpack')\n",
    "    os.system('pip install patool')\n",
    "    from pyunpack import Archive"
   ]
  },
  {
   "cell_type": "markdown",
   "metadata": {},
   "source": [
    "## Descarga de geometrias de CENSO de CONICET (Gonzalo Rodriguez)"
   ]
  },
  {
   "cell_type": "code",
   "execution_count": 28,
   "metadata": {},
   "outputs": [],
   "source": [
    "\n",
    "# Obtaining the data from the URL's\n",
    "url_front = 'http://ceur-conicet.gov.ar/archivos/transferencia/'\n",
    "\n",
    "## Carpeta donde quedaran los shp\n",
    "extract_dir = './censos_shp_CONICET'\n",
    "\n",
    "for year in ['1991', '2001', '2010']:\n",
    "    file_name = year+'_RADIOS_ARGENTINA.rar'\n",
    "    full_file = os.path.join(os.getcwd(), extract_dir, file_name)\n",
    "    extracted_folder_path = os.path.join(extract_dir, year+'_RADIOS ARGENTINA')\n",
    "\n",
    "    # Descarga el rar solo si no existe.\n",
    "    if not os.path.isfile(full_file):\n",
    "\n",
    "        # Si no esta el directorio lo crea\n",
    "        if not os.path.exists(extract_dir):\n",
    "            os.makedirs(extract_dir)\n",
    "\n",
    "        # Toma data del URL\n",
    "        urlretrieve(url_front + file_name, full_file)\n",
    "        \n",
    "    # Extracts files only if the extracted folder does not exist.\n",
    "    if not os.path.isdir(extracted_folder_path):\n",
    "        Archive(full_file).extractall(extract_dir)"
   ]
  },
  {
   "cell_type": "markdown",
   "metadata": {},
   "source": [
    "## Descarga de geometrias de IGN"
   ]
  },
  {
   "cell_type": "code",
   "execution_count": 29,
   "metadata": {},
   "outputs": [],
   "source": [
    "# Obtaining the data from the URL's\n",
    "url_front = 'https://www.ign.gob.ar/descargas/geodatos/SHAPES/'\n",
    "\n",
    "## Carpeta donde quedaran los shp\n",
    "extract_dir = 'IGN_shp'\n",
    "\n",
    "for file_name in ['ign_provincia.zip', 'ign_departamento.zip']:\n",
    "    full_file = os.path.join(os.getcwd(), extract_dir, file_name)\n",
    "\n",
    "    # Descarga el rar solo si no existe.\n",
    "    if not os.path.isfile(full_file):\n",
    "        # Si no esta el directorio lo crea\n",
    "        if not os.path.exists(extract_dir):\n",
    "            os.makedirs(extract_dir)\n",
    "\n",
    "        # Toma data del URL\n",
    "        urlretrieve(url_front + file_name, full_file)\n",
    "\n",
    "    Archive(full_file).extractall(extract_dir)"
   ]
  },
  {
   "cell_type": "code",
   "execution_count": 30,
   "metadata": {},
   "outputs": [
    {
     "data": {
      "text/plain": [
       "'IGN_shp'"
      ]
     },
     "execution_count": 30,
     "metadata": {},
     "output_type": "execute_result"
    }
   ],
   "source": [
    "extract_dir"
   ]
  },
  {
   "cell_type": "code",
   "execution_count": 31,
   "metadata": {},
   "outputs": [
    {
     "data": {
      "text/plain": [
       "'/home/matias/repos/IGN_INDEC_georef/IGN_shp/ign_departamento.zip'"
      ]
     },
     "execution_count": 31,
     "metadata": {},
     "output_type": "execute_result"
    }
   ],
   "source": [
    "full_file"
   ]
  },
  {
   "cell_type": "code",
   "execution_count": null,
   "metadata": {},
   "outputs": [],
   "source": []
  }
 ],
 "metadata": {
  "kernelspec": {
   "display_name": "Python 3",
   "language": "python",
   "name": "python3"
  },
  "language_info": {
   "codemirror_mode": {
    "name": "ipython",
    "version": 3
   },
   "file_extension": ".py",
   "mimetype": "text/x-python",
   "name": "python",
   "nbconvert_exporter": "python",
   "pygments_lexer": "ipython3",
   "version": "3.11.3"
  }
 },
 "nbformat": 4,
 "nbformat_minor": 4
}
